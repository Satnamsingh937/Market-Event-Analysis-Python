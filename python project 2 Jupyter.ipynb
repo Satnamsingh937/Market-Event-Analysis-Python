{
 "cells": [
  {
   "cell_type": "code",
   "execution_count": null,
   "metadata": {},
   "outputs": [],
   "source": [
    "import pandas as pd\n",
    "import numpy as np\n",
    "import matplotlib.pyplot as plt\n",
    "import scipy.stats as sc\n",
    "from datetime import datetime"
   ]
  },
  {
   "cell_type": "code",
   "execution_count": null,
   "metadata": {},
   "outputs": [],
   "source": [
    "# We start by importing the data via Excel, and checking the types of our columns before doing anything else!\n",
    "df = pd.read_excel(\"TSLA SP500 Datas.xlsx\", sheet_name = 'TSLA')\n",
    "df.dtypes\n"
   ]
  },
  {
   "cell_type": "code",
   "execution_count": null,
   "metadata": {},
   "outputs": [],
   "source": [
    "df[\"S&P 500 Adj Close\"] = pd.to_numeric(df[\"S&P 500 Adj Close\"])  \n",
    "#df[\"S&P 500 Volume\"] = pd.to_numeric(df[\"S&P 500 Volume\"])  "
   ]
  },
  {
   "cell_type": "code",
   "execution_count": null,
   "metadata": {},
   "outputs": [],
   "source": [
    "st_Name = 'TESLA'\n",
    "index_Name = 'S&P 500'\n",
    "st_Ticker = 'TSLA'\n",
    "event_Type = 'Stock Split'\n",
    "\n",
    "#Event date = 31-08-2020\n",
    "year = 2020\n",
    "month = 8\n",
    "day = 31\n",
    "\n",
    "Index_event = df.loc[(df[\"Date\"].dt.year ==2020)&(df[\"Date\"].dt.month==8)&(df[\"Date\"].dt.day==31)].index[0]\n",
    "df_EventWindow = df.loc[Index_event : Index_event + 5, :]\n",
    "df_ControlWindow = df.loc[Index_event-120 : Index_event-6, :]\n",
    "\n",
    "df = pd.concat([df_ControlWindow, df_EventWindow], axis = 0)\n",
    "df.reset_index(drop = True, inplace = True)\n",
    "\n",
    "st_Return = df.iloc[-1,1] / df.iloc[0,1] - 1 \n",
    "\n",
    "print(df)\n",
    "print('==========================================')\n",
    "print('              KEY INFORMATION             ')\n",
    "print('==========================================')\n",
    "print('Corporation =', st_Name)\n",
    "print('Ticker =', st_Ticker)\n",
    "print('Event Nature = ', event_Type)\n",
    "print('Event Date = ', day, '/',month, '/',year)\n",
    "print('Dates = from', (df.iloc[0,0]).strftime('%d/%m/%Y'),'to',  (df.iloc[-1,0]).strftime('%d/%m/%Y'))\n",
    "print('Stock Return over the period  = ', str(round(st_Return * 100, 3)), '%')\n",
    "print('==========================================')\n"
   ]
  },
  {
   "cell_type": "code",
   "execution_count": null,
   "metadata": {
    "scrolled": false
   },
   "outputs": [],
   "source": [
    "def Plot_Price_Volume (Date,Volume,Price,df) : \n",
    "    \n",
    "    x=df[Date]\n",
    "    y=df[Volume]\n",
    "    z=df[Price]\n",
    "    \n",
    "    fig, ax1 = plt.subplots(figsize=(12,6))\n",
    "    color = 'blue'\n",
    "    ax1.set_xlabel('Date')\n",
    "    ax1.set_ylabel('volume', color=color)\n",
    "    ax1.bar(x, y, label=Volume)\n",
    "    ax1.tick_params(axis='x', labelcolor='grey')\n",
    "    #ax1.legend(loc=\"upper left\")\n",
    "    #plt.legend()\n",
    "    plt.legend(loc=\"upper left\")\n",
    "    \n",
    "\n",
    "    ax2 = ax1.twinx()  # instantiate a second axes that shares the same x-axis\n",
    "\n",
    "    color = 'red'\n",
    "    ax2.set_ylabel('adj price', color=color)  # we already handled the x-label with ax1\n",
    "    ax2.plot(x, z, color=color, label=Price)\n",
    "    ax2.tick_params(axis='x', labelcolor=color)\n",
    "    ax2.legend(loc=(0.006,0.89))\n",
    "    #plt.legend(loc=(0.006,0.89))\n",
    "\n",
    "        \n",
    "    fig.tight_layout()  # otherwise the right y-label is slightly clipped\n",
    "\n",
    "    return plt.show()\n",
    "\n",
    "Plot_Price_Volume(\"Date\",'TESLA Volume', 'TSLA Adj Close', df)\n",
    "#the stock volume is very low near the split period, trading temporarily halted?"
   ]
  },
  {
   "cell_type": "code",
   "execution_count": null,
   "metadata": {},
   "outputs": [],
   "source": [
    "df_ControlWindow['Tesla Return'] = (df_ControlWindow[\"TSLA Adj Close\"] - df_ControlWindow.shift(periods = 1)[\"TSLA Adj Close\"]) / df_ControlWindow.shift(periods = 1)[\"TSLA Adj Close\"]\n",
    "df_ControlWindow['Index Return'] = (df_ControlWindow[\"S&P 500 Adj Close\"] - df_ControlWindow.shift(periods = 1)[\"S&P 500 Adj Close\"]) /df_ControlWindow.shift(periods = 1)[\"S&P 500 Adj Close\"]\n",
    "#df_ControlWindow\n",
    "\n",
    "df_EventWindow['Tesla Return'] = (df_EventWindow[\"TSLA Adj Close\"] - df_EventWindow.shift(periods = 1)[\"TSLA Adj Close\"]) / df_EventWindow.shift(periods = 1)[\"TSLA Adj Close\"]\n",
    "df_EventWindow['Index Return'] = (df_EventWindow[\"S&P 500 Adj Close\"] - df_EventWindow.shift(periods = 1)[\"S&P 500 Adj Close\"]) / df_EventWindow.shift(periods = 1)[\"S&P 500 Adj Close\"]\n",
    "#df_EventWindow\n",
    "\n",
    "df_Returns = pd.concat([df_ControlWindow, df_EventWindow])\n",
    "df_Returns.reset_index(drop = True, inplace = True)\n",
    "#df_Returns\n",
    "df_Returns[110:]  #just to make sure that there is no problem in the concatenation"
   ]
  },
  {
   "cell_type": "code",
   "execution_count": null,
   "metadata": {},
   "outputs": [],
   "source": [
    "# Average Returns\n",
    "st_CW_Mean = df_ControlWindow['Tesla Return'].mean()\n",
    "st_EW_Mean = df_EventWindow['Tesla Return'].mean()\n",
    "index_CW_Mean = df_ControlWindow['Index Return'].mean()\n",
    "index_EW_Mean = df_EventWindow['Index Return'].mean()\n",
    "\n",
    "\n",
    "# Volatility of Returns\n",
    "st_CW_VolatilityRt = df_ControlWindow['Tesla Return'].std()\n",
    "index_CW_VolatilityRt = df_ControlWindow['Index Return'].std()\n",
    "st_EW_VolatilityRt = df_EventWindow['Tesla Return'].std()\n",
    "index_EW_VolatilityRt = df_EventWindow['Index Return'].std()\n",
    "\n",
    "print('==========================================')\n",
    "print('              CONTROL WINDOW              ')\n",
    "print('==========================================')\n",
    "print('Dates = from', (df_ControlWindow.iloc[0,0]).strftime('%d/%m/%Y'),'to',  (df_ControlWindow.iloc[-1,0]).strftime('%d/%m/%Y'))\n",
    "print(st_Name, 'Average Return =', str(round(st_CW_Mean * 100, 4)),'%')\n",
    "print(st_Name, 'Return Volatility =', str(round(st_CW_VolatilityRt * 100, 4)),'%')\n",
    "print(index_Name, 'Average Return =', str(round(st_CW_Mean * 100, 4)),'%')\n",
    "print(index_Name, 'Return Volatility =', str(round(index_CW_VolatilityRt * 100, 4)),'%')\n",
    "print('==========================================')\n",
    "print('')\n",
    "print('')\n",
    "print('==========================================')\n",
    "print('              EVENT WINDOW              ')\n",
    "print('==========================================')\n",
    "print('Dates = from', (df_EventWindow.iloc[0,0]).strftime('%d/%m/%Y'),'to',  (df_EventWindow.iloc[-1,0]).strftime('%d/%m/%Y'))\n",
    "print(st_Name, 'Average Return =', str(round(st_EW_Mean * 100, 4)),'%')\n",
    "print(st_Name, 'Return Volatility =', str(round(st_EW_VolatilityRt * 100, 4)),'%')\n",
    "print(index_Name, 'Average Return =', str(round(index_EW_Mean * 100, 4)),'%')\n",
    "print(index_Name, 'Return Volatility =', str(round(index_EW_VolatilityRt * 100, 4)),'%')\n",
    "print('==========================================')"
   ]
  },
  {
   "cell_type": "code",
   "execution_count": null,
   "metadata": {
    "scrolled": true
   },
   "outputs": [],
   "source": [
    "def Draw_Linear_Regression(x,y,DataFrame) : \n",
    "    X_label=x\n",
    "    Y_label=y\n",
    "    \n",
    "    x=np.asarray(DataFrame[x])\n",
    "    y=np.asarray(DataFrame[y])\n",
    "    \n",
    "    line=sc.linregress(x,y)\n",
    "    line_slope=line.slope\n",
    "    line_intercept=line.intercept\n",
    "    line_correl=line.rvalue\n",
    "       \n",
    "    My_Modele=line_slope*x + line_intercept\n",
    "    \n",
    "    plt.figure(figsize=(10, 4))\n",
    "    plt.scatter(x,y,label='observed data')\n",
    "    plt.plot(x,My_Modele, c='r',label='fitted data')    \n",
    "    \n",
    "    plt.xlabel(X_label)\n",
    "    plt.ylabel(Y_label)\n",
    "    \n",
    "    plt.title(\"Linear Regression\")\n",
    "    plt.legend()\n",
    "    plt.show()\n",
    " \n",
    "    return (plt.show(),\"The estimated market model is : \" + \"Y = \" + str(line[0]) + \" X + \"+ str(round(line_intercept,7)))[1]\n",
    "    \n",
    "Draw_Linear_Regression('Index Return','Tesla Return', df_ControlWindow[1:])\n",
    "\n",
    "# We tried to fill the nan with mean value, but it is not mandatory :\n",
    "#df_ControlWindow['Tesla Return'] = (df_ControlWindow[\"TSLA Adj Close\"] - df_ControlWindow.shift(periods = 1)[\"TSLA Adj Close\"]) / df_ControlWindow.shift(periods = 1)[\"TSLA Adj Close\"]\n",
    "#df_ControlWindow[\"Tesla Return\"].fillna(np.mean(df_ControlWindow[\"Tesla Return\"]),inplace=True)\n",
    "#df_ControlWindow[\"Index Return\"].fillna(np.mean(df_ControlWindow[\"Index Return\"]),inplace=True)\n",
    "#Linear_Regression('Index Return','Tesla Return', df_ControlWindow)"
   ]
  },
  {
   "cell_type": "code",
   "execution_count": null,
   "metadata": {},
   "outputs": [],
   "source": [
    "def Linear_Regression(x,y,DataFrame) : \n",
    "    X_label=x\n",
    "    Y_label=y\n",
    "    x=np.asarray(DataFrame[x])\n",
    "    y=np.asarray(DataFrame[y])\n",
    "    line=sc.linregress(x,y)\n",
    "    return line\n",
    "\n",
    "slope = Linear_Regression('Index Return','Tesla Return', df_ControlWindow[1:])[0]\n",
    "intercept = Linear_Regression('Index Return','Tesla Return', df_ControlWindow[1:])[1]\n",
    "\n",
    "df_ControlWindow['Abnormal Return'] = df_ControlWindow['Tesla Return'] - (slope * df_ControlWindow['Index Return'] - intercept)\n",
    "df_EventWindow['Abnormal Return'] = df_EventWindow['Tesla Return'] - (slope * df_EventWindow['Index Return'] - intercept)"
   ]
  },
  {
   "cell_type": "code",
   "execution_count": null,
   "metadata": {},
   "outputs": [],
   "source": [
    "df_EventWindow"
   ]
  },
  {
   "cell_type": "code",
   "execution_count": null,
   "metadata": {},
   "outputs": [],
   "source": [
    "df_ControlWindow"
   ]
  },
  {
   "cell_type": "code",
   "execution_count": null,
   "metadata": {},
   "outputs": [],
   "source": [
    "#Q14\n",
    "CAR_EW = df_EventWindow['Abnormal Return'].sum()\n",
    "CAR_EW"
   ]
  },
  {
   "cell_type": "code",
   "execution_count": null,
   "metadata": {},
   "outputs": [],
   "source": [
    "#Q15 Statistic Test\n",
    "AR_CW_Volatility = df_ControlWindow['Abnormal Return'].std()\n",
    "Stat = CAR_EW / (np.sqrt(6) * AR_CW_Volatility)\n",
    "Stat"
   ]
  }
 ],
 "metadata": {
  "kernelspec": {
   "display_name": "Python 3",
   "language": "python",
   "name": "python3"
  },
  "language_info": {
   "codemirror_mode": {
    "name": "ipython",
    "version": 3
   },
   "file_extension": ".py",
   "mimetype": "text/x-python",
   "name": "python",
   "nbconvert_exporter": "python",
   "pygments_lexer": "ipython3",
   "version": "3.8.5"
  }
 },
 "nbformat": 4,
 "nbformat_minor": 5
}
